{
 "cells": [
  {
   "cell_type": "markdown",
   "id": "202732f3-f67d-45e2-a163-2c0929ac871d",
   "metadata": {},
   "source": [
    "## LOGIN FACEBOOK\n",
    "\n",
    "<img src=\"auth_flow.png\"> </img>\n",
    "\n",
    "\n",
    "- An access token is generated after the user consent is given.\n",
    "- The access token is then used to fetch resources from the API (i.e email)\n",
    "\n",
    "### Current implementation \n",
    "\n",
    "- After user consent the access token is generated and is used to fetch the email from the API. This happens after specifying the App-id in the default value of the LOGIN FACEBOOK element.\n",
    "- A payload is generated with the email.\n",
    "-  The email is then used to login the user into Nikobizz\n",
    "\n",
    "\n",
    "## REGISTER FACEBOOK\n",
    "An access token is generated after the user consent is given.\n",
    "The access token is then used to fetch resources from the API. \n",
    "\n",
    "### Issue\n",
    "- The payload generated contains only name and id fields. However an email field is alsoo needed to register the user\n",
    "\n",
    "<img src=\"fbRegPayload.png\"> </img>\n",
    "\n",
    "\n"
   ]
  },
  {
   "cell_type": "code",
   "execution_count": null,
   "id": "a0a4f22f-c1a8-4951-b780-c38ef34f1006",
   "metadata": {},
   "outputs": [],
   "source": []
  }
 ],
 "metadata": {
  "kernelspec": {
   "display_name": "Python 3 (ipykernel)",
   "language": "python",
   "name": "python3"
  },
  "language_info": {
   "codemirror_mode": {
    "name": "ipython",
    "version": 3
   },
   "file_extension": ".py",
   "mimetype": "text/x-python",
   "name": "python",
   "nbconvert_exporter": "python",
   "pygments_lexer": "ipython3",
   "version": "3.8.10"
  }
 },
 "nbformat": 4,
 "nbformat_minor": 5
}
