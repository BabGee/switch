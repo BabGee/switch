{
 "cells": [
  {
   "cell_type": "markdown",
   "id": "16367f23-afe4-4de7-b6ca-14a9c3c6672a",
   "metadata": {},
   "source": [
    "### Section 1: Use Case.\n",
    "1. Institution goes to the analytics page.\n",
    "2. Institution is able to view:  \n",
    "   - The total points awarded to its customers. <br />\n",
    "   - Total redeemed points by its customers. <br />\n",
    "   - Total successful referrals by its customers <br />\n",
    "   - Total referral earnings. <br />\n",
    "   \n",
    "  The above information is displayed in SUMMARY BOXES, BAR CHART, PIE CHART and TABLE.    \n",
    " \n",
    "### Section 2: Pseudo code.\n",
    "1. GET the institution\n",
    "2. CREATE a Query that will: <br />\n",
    "   - RETURN a queryset from the CustomerLoyaltyPointManager table filtered with the institution.<br />\n",
    "   - SUM up all the values in the field 'points_earned' of the CustomerLoyaltyPointManager table.(for Total Points Awarded)\n",
    "   - RETURN the summed up value(to be displayed on the SUMMARY BOXES of the Total Points Awarded)\n",
    "\n",
    "#### The CustomerLoyaltyPointManagerTable\n",
    " ```\n",
    " class CustomerLoyaltyPointManager(models.Model):\n",
    "\tdate_modified = models.DateTimeField(auto_now=True)\n",
    "\tdate_created = models.DateTimeField(auto_now_add=True)\n",
    "\tgateway_profile = models.ForeignKey(GatewayProfile, null=True, blank=True, on_delete=models.CASCADE)\n",
    "\tamount_paid = models.DecimalField(max_digits=19, decimal_places=2) \n",
    "\tpoints_earned = models.DecimalField(max_digits=19, decimal_places=2,blank=True)\n",
    "\tpoints_balance = models.DecimalField(max_digits=25, decimal_places=2,blank=True)\n",
    "\n",
    "\tdef __str__(self):\n",
    "\t\treturn u'%s' % (self.gateway_profile)\n",
    " ```\n",
    " \n",
    " ### Section 4: Implementation (Actual Code)\n",
    " \n",
    " ```\n",
    "\n",
    "def get_collective_points_awarded_by_institution(request, pk):\n",
    "    institution = Institution.objects.get(pk=pk) # returns institution\n",
    "    points_earned_sum = CustomerLoyaltyPointManager.objects.filter(gateway_profile__institution=institution).aggregate(Sum('points_earned'))\n",
    "\n",
    "```\n",
    "#### points_earned_sum is a dict with key 'points_earned__sum' and a Decimal value e.g {\"points_earned__sum\" : Decimal(450)}\n"
   ]
  },
  {
   "cell_type": "code",
   "execution_count": null,
   "id": "4549d084-de36-4aae-8b8b-953d9a7f3f02",
   "metadata": {},
   "outputs": [],
   "source": []
  }
 ],
 "metadata": {
  "kernelspec": {
   "display_name": "Python 3 (ipykernel)",
   "language": "python",
   "name": "python3"
  },
  "language_info": {
   "codemirror_mode": {
    "name": "ipython",
    "version": 3
   },
   "file_extension": ".py",
   "mimetype": "text/x-python",
   "name": "python",
   "nbconvert_exporter": "python",
   "pygments_lexer": "ipython3",
   "version": "3.8.10"
  },
  "toc-autonumbering": false,
  "toc-showcode": true,
  "toc-showmarkdowntxt": false
 },
 "nbformat": 4,
 "nbformat_minor": 5
}
